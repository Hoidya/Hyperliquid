{
 "cells": [
  {
   "cell_type": "markdown",
   "metadata": {},
   "source": [
    "# fetch"
   ]
  },
  {
   "cell_type": "code",
   "execution_count": null,
   "metadata": {
    "vscode": {
     "languageId": "plaintext"
    }
   },
   "outputs": [],
   "source": [
    "import ccxt\n",
    "import pandas as pd\n",
    "import os\n",
    "import time\n",
    "\n",
    "exchange = ccxt.hyperliquid()\n",
    "\n",
    "markets = exchange.fetch_markets()\n",
    "\n",
    "spot_pairs = [market['symbol'] for market in markets if market['type'] == 'spot']\n",
    "spot_count = len(spot_pairs)\n",
    "\n",
    "print(f\"Hyperliquid spot pair num: {spot_count}\")\n",
    "\n",
    "folder_name = 'hyperliquid_spot'\n",
    "os.makedirs(folder_name, exist_ok=True)\n",
    "\n",
    "\n",
    "timeframe = '1d'\n",
    "since = exchange.parse8601('2023-01-01T00:00:00Z')\n",
    "\n",
    "\n",
    "for symbol in spot_pairs:\n",
    "    all_ohlcv = []\n",
    "\n",
    "   \n",
    "    ohlcv = exchange.fetch_ohlcv(symbol, timeframe, since)\n",
    "   \n",
    "    if ohlcv:\n",
    "        all_ohlcv.extend(ohlcv)\n",
    "\n",
    "        ohlcv_df = pd.DataFrame(all_ohlcv, columns=['timestamp', 'open', 'high', 'low', 'close', 'volume'])\n",
    "        ohlcv_df['timestamp'] = pd.to_datetime(ohlcv_df['timestamp'], unit='ms')\n",
    "\n",
    "        file_name = os.path.join(folder_name, f\"{symbol.replace('/', '_')}_ohlcv.csv\")\n",
    "        ohlcv_df.to_csv(file_name, index=False)\n",
    "\n",
    "        print(f\"Saved OHLCV data for {symbol} to {file_name}\")\n",
    "    else:\n",
    "        print(f\"No data available for {symbol}\")\n",
    "\n",
    "    print(\"Waiting for 10 seconds...\")\n",
    "    time.sleep(5)"
   ]
  }
 ],
 "metadata": {
  "language_info": {
   "name": "python"
  }
 },
 "nbformat": 4,
 "nbformat_minor": 2
}
