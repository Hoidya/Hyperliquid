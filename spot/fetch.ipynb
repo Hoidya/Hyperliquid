{
 "cells": [
  {
   "cell_type": "markdown",
   "metadata": {},
   "source": [
    "# fetch"
   ]
  },
  {
   "cell_type": "code",
   "execution_count": null,
   "metadata": {},
   "outputs": [],
   "source": [
    "import ccxt\n",
    "import pandas as pd\n",
    "import os\n",
    "import time\n",
    "\n",
    "exchange = ccxt.hyperliquid()\n",
    "\n",
    "markets = exchange.fetch_markets()\n",
    "\n",
    "spot_pairs = [market['symbol'] for market in markets if market['type'] == 'spot']\n",
    "spot_count = len(spot_pairs)\n",
    "\n",
    "print(f\"Hyperliquid spot pair num: {spot_count}\")\n",
    "\n",
    "folder_name = 'hyperliquid_spot'\n",
    "os.makedirs(folder_name, exist_ok=True)\n",
    "\n",
    "\n",
    "timeframe = '1d'\n",
    "since = exchange.parse8601('2023-01-01T00:00:00Z')\n",
    "\n",
    "\n",
    "for symbol in spot_pairs:\n",
    "    all_ohlcv = []\n",
    "\n",
    "   \n",
    "    ohlcv = exchange.fetch_ohlcv(symbol, timeframe, since)\n",
    "   \n",
    "    if ohlcv:\n",
    "        all_ohlcv.extend(ohlcv)\n",
    "\n",
    "        ohlcv_df = pd.DataFrame(all_ohlcv, columns=['timestamp', 'open', 'high', 'low', 'close', 'volume'])\n",
    "        ohlcv_df['timestamp'] = pd.to_datetime(ohlcv_df['timestamp'], unit='ms')\n",
    "\n",
    "        file_name = os.path.join(folder_name, f\"{symbol.replace('/', '_')}_ohlcv.csv\")\n",
    "        ohlcv_df.to_csv(file_name, index=False)\n",
    "\n",
    "        print(f\"Saved OHLCV data for {symbol} to {file_name}\")\n",
    "    else:\n",
    "        print(f\"No data available for {symbol}\")\n",
    "\n",
    "    print(\"Waiting for 5 seconds...\")\n",
    "    time.sleep(5)"
   ]
  },
  {
   "cell_type": "code",
   "execution_count": 16,
   "metadata": {},
   "outputs": [
    {
     "name": "stdout",
     "output_type": "stream",
     "text": [
      "Current directory: /workspaces/Hyperliquid\n",
      "Files and folders in current directory: ['spot', 'README.md', '.git']\n"
     ]
    }
   ],
   "source": [
    "import os\n",
    "\n",
    "# 打印当前工作目录\n",
    "print(\"Current directory:\", os.getcwd())\n",
    "import os\n",
    "\n",
    "# 列出当前工作目录中的所有文件和文件夹\n",
    "files = os.listdir()\n",
    "print(\"Files and folders in current directory:\", files)"
   ]
  },
  {
   "cell_type": "code",
   "execution_count": 15,
   "metadata": {},
   "outputs": [
    {
     "name": "stdout",
     "output_type": "stream",
     "text": [
      "Contents of 'spot': ['dec_17', 'spot.ipynb']\n"
     ]
    }
   ],
   "source": [
    "spot_folder = 'spot'\n",
    "\n",
    "if os.path.exists(spot_folder):\n",
    "    contents = os.listdir(spot_folder)\n",
    "    print(f\"Contents of '{spot_folder}':\", contents)\n",
    "else:\n",
    "    print(f\"'{spot_folder}' folder not found.\")"
   ]
  },
  {
   "cell_type": "code",
   "execution_count": 4,
   "metadata": {},
   "outputs": [
    {
     "ename": "FileNotFoundError",
     "evalue": "[Errno 2] No such file or directory: 'spot/hyperliquid_spot'",
     "output_type": "error",
     "traceback": [
      "\u001b[0;31m---------------------------------------------------------------------------\u001b[0m",
      "\u001b[0;31mFileNotFoundError\u001b[0m                         Traceback (most recent call last)",
      "Cell \u001b[0;32mIn[4], line 7\u001b[0m\n\u001b[1;32m      5\u001b[0m \u001b[38;5;66;03m# 读取 OHLCV 数据\u001b[39;00m\n\u001b[1;32m      6\u001b[0m folder_name \u001b[38;5;241m=\u001b[39m \u001b[38;5;124m'\u001b[39m\u001b[38;5;124mspot/hyperliquid_spot\u001b[39m\u001b[38;5;124m'\u001b[39m\n\u001b[0;32m----> 7\u001b[0m files \u001b[38;5;241m=\u001b[39m \u001b[43mos\u001b[49m\u001b[38;5;241;43m.\u001b[39;49m\u001b[43mlistdir\u001b[49m\u001b[43m(\u001b[49m\u001b[43mfolder_name\u001b[49m\u001b[43m)\u001b[49m\n\u001b[1;32m      9\u001b[0m \u001b[38;5;66;03m# 创建一个 DataFrame 存储结果\u001b[39;00m\n\u001b[1;32m     10\u001b[0m results \u001b[38;5;241m=\u001b[39m []\n",
      "\u001b[0;31mFileNotFoundError\u001b[0m: [Errno 2] No such file or directory: 'spot/hyperliquid_spot'"
     ]
    }
   ],
   "source": [
    "import pandas as pd\n",
    "import os\n",
    "\n",
    "\n",
    "# 读取 OHLCV 数据\n",
    "folder_name = 'spot/hyperliquid_spot'\n",
    "files = os.listdir(folder_name)\n",
    "\n",
    "# 创建一个 DataFrame 存储结果\n",
    "results = []\n",
    "\n",
    "for file in files:\n",
    "    if file.endswith('_ohlcv.csv'):\n",
    "        # 读取 CSV 文件\n",
    "        file_path = os.path.join(folder_name, file)\n",
    "        ohlcv_df = pd.read_csv(file_path)\n",
    "\n",
    "        # 计算 Token symbol，只保留下划线前的部分\n",
    "        token_symbol = file.split('_')[0]  # 提取第一个部分，例如 'ADHD'\n",
    "\n",
    "        # 找到上市日期（第一次出现价格的时间）\n",
    "        ohlcv_df['timestamp'] = pd.to_datetime(ohlcv_df['timestamp'])\n",
    "        listed_date = ohlcv_df['timestamp'].iloc[0]\n",
    "\n",
    "        # 计算价格变化\n",
    "        price_change = {\n",
    "            '1d': ohlcv_df.loc[ohlcv_df['timestamp'] > listed_date + pd.Timedelta(days=1), 'close'].iloc[0] / ohlcv_df['close'].iloc[0] - 1,\n",
    "            '30d': ohlcv_df.loc[ohlcv_df['timestamp'] > listed_date + pd.Timedelta(days=30), 'close'].iloc[0] / ohlcv_df['close'].iloc[0] - 1,\n",
    "            '60d': ohlcv_df.loc[ohlcv_df['timestamp'] > listed_date + pd.Timedelta(days=60), 'close'].iloc[0] / ohlcv_df['close'].iloc[0] - 1,\n",
    "        }\n",
    "\n",
    "        # 计算 ATH 和日期\n",
    "        ath_price = ohlcv_df['close'].max()\n",
    "        ath_date = ohlcv_df.loc[ohlcv_df['close'].idxmax(), 'timestamp']\n",
    "        days_to_ath = (ath_date - listed_date).days\n",
    "\n",
    "        # 计算交易量变化\n",
    "        vol_change = {\n",
    "            '1d': ohlcv_df.loc[ohlcv_df['timestamp'] > listed_date + pd.Timedelta(days=1), 'volume'].iloc[0] / ohlcv_df['volume'].iloc[0] - 1,\n",
    "            '30d': ohlcv_df.loc[ohlcv_df['timestamp'] > listed_date + pd.Timedelta(days=30), 'volume'].iloc[0] / ohlcv_df['volume'].iloc[0] - 1,\n",
    "            '60d': ohlcv_df.loc[ohlcv_df['timestamp'] > listed_date + pd.Timedelta(days=60), 'volume'].iloc[0] / ohlcv_df['volume'].iloc[0] - 1,\n",
    "        }\n",
    "\n",
    "        # 收集结果\n",
    "        results.append({\n",
    "            'Token symbol': token_symbol,\n",
    "            'Listed date': listed_date,\n",
    "            'ATH date': ath_date,  # 添加 ATH 日期\n",
    "            'Price % change 1d': price_change['1d'] * 100,\n",
    "            'Price % change 30d': price_change['30d'] * 100,\n",
    "            'Price % change 60d': price_change['60d'] * 100,\n",
    "            'ATH %': (ath_price / ohlcv_df['close'].iloc[0] - 1) * 100,\n",
    "            'Day to ATH': days_to_ath,\n",
    "            'Vol % change 1d': vol_change['1d'] * 100,\n",
    "            'Vol % change 30d': vol_change['30d'] * 100,\n",
    "            'Vol % change 60d': vol_change['60d'] * 100,\n",
    "        })\n",
    "\n",
    "# 创建最终的 DataFrame\n",
    "results_df = pd.DataFrame(results)\n",
    "\n",
    "# 保存结果到 CSV\n",
    "results_df.to_csv('hyperliquid_spot_summary.csv', index=False)\n",
    "\n",
    "print(\"汇总数据已保存到 hyperliquid_spot_summary.csv\")"
   ]
  },
  {
   "cell_type": "code",
   "execution_count": null,
   "metadata": {},
   "outputs": [],
   "source": []
  }
 ],
 "metadata": {
  "kernelspec": {
   "display_name": "Python 3 (ipykernel)",
   "language": "python",
   "name": "python3"
  },
  "language_info": {
   "codemirror_mode": {
    "name": "ipython",
    "version": 3
   },
   "file_extension": ".py",
   "mimetype": "text/x-python",
   "name": "python",
   "nbconvert_exporter": "python",
   "pygments_lexer": "ipython3",
   "version": "3.12.1"
  }
 },
 "nbformat": 4,
 "nbformat_minor": 2
}
